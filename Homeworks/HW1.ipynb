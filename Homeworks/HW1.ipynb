{
 "cells": [
  {
   "cell_type": "markdown",
   "id": "6b16bff7",
   "metadata": {},
   "source": [
    "# ===========================================================================================\n",
    "# Written by Fritz Hesse\n",
    "# This code is intended for ECEN 250 Homework 1\n",
    "# ==========================================================================================="
   ]
  },
  {
   "cell_type": "code",
   "execution_count": 12,
   "id": "d2bb0e95",
   "metadata": {},
   "outputs": [],
   "source": [
    "import numpy as np\n",
    "import matplotlib.pyplot as plt\n",
    "import pandas as pd"
   ]
  },
  {
   "cell_type": "markdown",
   "id": "4c3f842b",
   "metadata": {},
   "source": [
    "# QUESTION 3\n",
    "# For this problem, use a spreadsheet or python code or notebook.\n",
    "# For the following numbers: 5, 77, 63, 7, 40, 16, 70, 99, 26, 63, 53, 96, 46, 31, 37, 43, 7,\n",
    "# 20, 54, 3, 18, 47, 49, 29, 46, 28, 63, 90, 45\n",
    "# (a) The population size = ______________\n",
    "# (b) Order the numbers from smallest to largest:\n",
    "# ___________________________________________________________________________\n",
    "# _________________________\n",
    "# (c) The median is ___________\n",
    "# (d) The mode is _____________\n",
    "# (e) Find the population mean ___________\n",
    "# (f) Create a histogram of the data with 6 equally spaced bins. Make sure your histogram has \n",
    "# labels on the axes. Insert your histogram below:"
   ]
  },
  {
   "cell_type": "code",
   "execution_count": 3,
   "id": "3938fdfd",
   "metadata": {},
   "outputs": [
    {
     "name": "stdout",
     "output_type": "stream",
     "text": [
      "Population size: 29\n",
      "Reordered Data: [3, 5, 7, 7, 16, 18, 20, 26, 28, 29, 31, 37, 40, 43, 45, 46, 46, 47, 49, 53, 54, 63, 63, 63, 70, 77, 90, 96, 99]\n",
      "Median: 45\n",
      "Mode: 63\n",
      "Population Mean: 43.827586206896555\n"
     ]
    },
    {
     "data": {
      "image/png": "[encoded data removed]",
      "text/plain": [
       "<Figure size 640x480 with 1 Axes>"
      ]
     },
     "metadata": {},
     "output_type": "display_data"
    }
   ],
   "source": [
    "givens = [5, 77, 63, 7, 40, 16, 70, 99, 26, 63, 53, 96, 46, 31, 37, 43, 7, 20, 54, 3, 18, 47, 49, 29, 46, 28, 63, 90, 45]\n",
    "\n",
    "#part a:\n",
    "pop_size = len(givens)\n",
    "print(f\"Population size: {pop_size}\")\n",
    "\n",
    "#part b:\n",
    "sorted_data = sorted(givens)\n",
    "print(f\"Reordered Data: {sorted_data}\")\n",
    "\n",
    "#part c:\n",
    "median_index = pop_size // 2\n",
    "median = sorted_data[median_index]\n",
    "print(f\"Median: {median}\")\n",
    "\n",
    "#part d:\n",
    "mode = sorted_data[0]\n",
    "current_num = sorted_data[0]\n",
    "num_instances = 0\n",
    "max_instances = 0\n",
    "for i in range(len(sorted_data)):\n",
    "    if sorted_data[i] == current_num:\n",
    "        num_instances += 1\n",
    "    else:\n",
    "        if num_instances > max_instances:\n",
    "            max_instances = num_instances\n",
    "            mode = sorted_data[i-1]\n",
    "            num_instances = 1\n",
    "        else:\n",
    "            num_instances = 1\n",
    "        current_num = sorted_data[i]\n",
    "print(f\"Mode: {mode}\")\n",
    "\n",
    "#part e:\n",
    "pop_mean = float(sum(givens)) / float(pop_size)\n",
    "print(f\"Population Mean: {pop_mean}\")\n",
    "\n",
    "#part f:\n",
    "plt.hist(givens, bins=6)\n",
    "plt.xlabel('Value')\n",
    "plt.ylabel('Count')\n",
    "plt.title('Distribution of Data')\n",
    "plt.show()"
   ]
  },
  {
   "cell_type": "markdown",
   "id": "8a3a782e",
   "metadata": {},
   "source": [
    "# QUESTION 5\n",
    "# Using a spreadsheet, calculator, or notebook, For the dataset [6, 4, 7, 9, 12, 5] find the:\n",
    "# (a) Range ________________________________\n",
    "# (b) (Arithmetic) mean ________________________________________________________\n",
    "# (c) Standard deviation _______________________________________________________\n",
    "# (d) Normalize the dataset (using min-max scaling) _________________________________\n",
    "# (e) Standardize the dataset ____________________________________________________\n",
    "# For the dataset [2, 33, 11, 14, 7, 9], find:\n",
    "# (f) Range ________________________________\n",
    "# (g) (Arithmetic) mean ________________________________________________________\n",
    "# (h) Standard deviation _______________________________________________________\n",
    "# (i) Normalize the dataset (using min-max scaling) _________________________________\n",
    "# (j) Standardize the dataset ____________________________________________________"
   ]
  },
  {
   "cell_type": "code",
   "execution_count": 11,
   "id": "b3697d27",
   "metadata": {},
   "outputs": [
    {
     "name": "stdout",
     "output_type": "stream",
     "text": [
      "USING [6, 4, 7, 9, 12, 5] DATA\n",
      "(a) Range: 8\n",
      "(b) Arithmetic Mean: 7.166666666666667\n",
      "(c) Standard Deviation: 2.6718699236468995\n",
      "(d) Normalized Data: [0.25, 0.0, 0.375, 0.625, 1.0, 0.125]\n",
      "(e) Standardized Data: [-0.4366480030862639, -1.1851874369484303, -0.06237828615518065, 0.6861611477069858, 1.8089702985002354, -0.8109177200173471]\n",
      "\n",
      "USING [2, 33, 11, 14, 7, 9] DATA\n",
      "(f) Range: 31\n",
      "(g) Arithmetic Mean: 12.666666666666666\n",
      "(h) Standard Deviation: 9.809292646374775\n",
      "(i) Normalized Data: [0.0, 1.0, 0.2903225806451613, 0.3870967741935484, 0.16129032258064516, 0.22580645161290322]\n",
      "(j) Standardized Data: [-1.0874042656489356, 2.0728643813932837, -0.16990691650764614, 0.135925533206117, -0.577683516125997, -0.37379521631682155]\n",
      "\n"
     ]
    }
   ],
   "source": [
    "givens = [6, 4, 7, 9, 12, 5]\n",
    "print(f\"USING {givens} DATA\")\n",
    "#part a:\n",
    "data_range = (sorted(givens)[-1] - sorted(givens)[0])\n",
    "print(f\"(a) Range: {data_range}\")\n",
    "\n",
    "#part b:\n",
    "mean = sum(givens) / len(givens)\n",
    "print(f\"(b) Arithmetic Mean: {mean}\")\n",
    "\n",
    "#part c:\n",
    "std_dev = np.std(givens)\n",
    "print(f\"(c) Standard Deviation: {std_dev}\")\n",
    "\n",
    "#part d:\n",
    "norm_values = []\n",
    "for item in givens:\n",
    "    temp = (item - sorted(givens)[0]) / (sorted(givens)[-1] - sorted(givens)[0])\n",
    "    norm_values.append(temp)\n",
    "print(f\"(d) Normalized Data: {norm_values}\")\n",
    "\n",
    "#part e:\n",
    "std_values = []\n",
    "for item in givens:\n",
    "    temp = (item - mean) / float(np.std(givens))\n",
    "    std_values.append(temp)\n",
    "print(f\"(e) Standardized Data: {std_values}\\n\")\n",
    "\n",
    "givens = [2, 33, 11, 14, 7, 9]\n",
    "print(f\"USING {givens} DATA\")\n",
    "#part f:\n",
    "data_range = (sorted(givens)[-1] - sorted(givens)[0])\n",
    "print(f\"(f) Range: {data_range}\")\n",
    "\n",
    "#part g:\n",
    "mean = sum(givens) / len(givens)\n",
    "print(f\"(g) Arithmetic Mean: {mean}\")\n",
    "\n",
    "#part h:\n",
    "std_dev = np.std(givens)\n",
    "print(f\"(h) Standard Deviation: {std_dev}\")\n",
    "\n",
    "#part i:\n",
    "norm_values = []\n",
    "for item in givens:\n",
    "    temp = (item - sorted(givens)[0]) / (sorted(givens)[-1] - sorted(givens)[0])\n",
    "    norm_values.append(temp)\n",
    "print(f\"(i) Normalized Data: {norm_values}\")\n",
    "\n",
    "#part j:\n",
    "std_values = []\n",
    "for item in givens:\n",
    "    temp = (item - mean) / float(np.std(givens))\n",
    "    std_values.append(temp)\n",
    "print(f\"(j) Standardized Data: {std_values}\\n\")"
   ]
  },
  {
   "cell_type": "code",
   "execution_count": null,
   "id": "704005ff",
   "metadata": {},
   "outputs": [],
   "source": [
    "# QUESTION 6\n",
    "# 8 pts) You are analyzing the following dataframe. You want to see how these features are related:\n",
    "# F1  F2   F3\n",
    "# 0   0.2  0.6\n",
    "# 1  -0.4  0.9\n",
    "# 2  -1    1.2\n",
    "# 3  -1.6  1.5\n",
    "# 4  -2.2  1.8\n",
    "# 5  -2.8  2.1\n",
    "\n",
    "# Compute cov(F1, F3) -- This can be done using a spreadsheet, a python dataframe, or by hand\n",
    "# ______________________________________________________________________________\n",
    "# Compute cov(F1, F2)\n",
    "# ______________________________________________________________________________\n",
    "# Compute corr(F1, F3)\n",
    "# ______________________________________________________________________________\n",
    "# Compute corr(F1, F2)\n",
    "# ______________________________________________________________________________"
   ]
  },
  {
   "cell_type": "code",
   "execution_count": 16,
   "id": "5b244766",
   "metadata": {},
   "outputs": [
    {
     "name": "stdout",
     "output_type": "stream",
     "text": [
      "cov(F1, F3): 1.05\n",
      "cov(F1, F2): -2.1\n",
      "corr(F1, F3): 1.0\n",
      "corr(F1, F2): -1.0\n"
     ]
    }
   ],
   "source": [
    "givens = {\n",
    "    \"F1\": [0, 1, 2, 3, 4, 5],\n",
    "    \"F2\": [0.2, -0.4, -1.0, -1.6, -2.2, -2.8],\n",
    "    \"F3\": [0.6, 0.9, 1.2, 1.5, 1.8, 2.1]\n",
    "}\n",
    "df = pd.DataFrame(givens)\n",
    "\n",
    "#compute covariance matrix and print specified values\n",
    "cov = df.cov()\n",
    "print(f\"cov(F1, F3): {cov[\"F1\"][\"F3\"]}\")\n",
    "print(f\"cov(F1, F2): {cov[\"F1\"][\"F2\"]}\")\n",
    "\n",
    "#compute correlation matrix and print specified values\n",
    "corr = df.corr()\n",
    "print(f\"corr(F1, F3): {corr[\"F1\"][\"F3\"]}\")\n",
    "print(f\"corr(F1, F2): {corr[\"F1\"][\"F2\"]}\")"
   ]
  }
 ],
 "metadata": {
  "kernelspec": {
   "display_name": "Python 3",
   "language": "python",
   "name": "python3"
  },
  "language_info": {
   "codemirror_mode": {
    "name": "ipython",
    "version": 3
   },
   "file_extension": ".py",
   "mimetype": "text/x-python",
   "name": "python",
   "nbconvert_exporter": "python",
   "pygments_lexer": "ipython3",
   "version": "3.13.7"
  }
 },
 "nbformat": 4,
 "nbformat_minor": 5
}

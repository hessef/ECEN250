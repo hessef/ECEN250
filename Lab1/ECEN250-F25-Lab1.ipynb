{
  "cells": [
    {
      "cell_type": "code",
      "execution_count": null,
      "metadata": {
        "id": "ZTRpdWhTfWOf"
      },
      "outputs": [],
      "source": [
        "print(\"Hello world\")"
      ]
    },
    {
      "cell_type": "markdown",
      "metadata": {
        "id": "vq2VEMHtbgKw"
      },
      "source": [
        "Great!  Now let's do a quick refresher on Phython 3\n",
        "\n"
      ]
    },
    {
      "cell_type": "markdown",
      "metadata": {
        "id": "yT8eQrancD9P"
      },
      "source": [
        "## VARIABLES"
      ]
    },
    {
      "cell_type": "markdown",
      "metadata": {
        "id": "V6PitL_PcLZU"
      },
      "source": [
        "Variables are created in Python when they are assigned a value.  Basic variable types are int, float, string, and Boolean. Here are some examples. Run the cells to execute the Python to create and assign values to variables."
      ]
    },
    {
      "cell_type": "code",
      "execution_count": null,
      "metadata": {
        "id": "6Lq9eMsjdiq5"
      },
      "outputs": [],
      "source": [
        "a = 2\n",
        "b = 3.142\n",
        "s = \"Say Howdy\"\n",
        "bool_val = True"
      ]
    },
    {
      "cell_type": "markdown",
      "metadata": {
        "id": "odKUc6_439wa"
      },
      "source": [
        "Now create a new code cell following this cell to create an integer with a name ANint and assign it a value of 1953.  In the same cell use the python print command to print the value of ANint"
      ]
    },
    {
      "cell_type": "code",
      "execution_count": null,
      "metadata": {
        "id": "Pk4isixru-Db",
        "outputId": "18a26390-899e-463c-f332-db2e11cc3da7"
      },
      "outputs": [
        {
          "name": "stdout",
          "output_type": "stream",
          "text": [
            "1953\n"
          ]
        }
      ],
      "source": [
        "ANint = 1953\n",
        "print(ANint)"
      ]
    },
    {
      "cell_type": "markdown",
      "metadata": {
        "id": "I_IL9kIEThUf"
      },
      "source": [
        "We can always check the type of a created variable with Python print command:"
      ]
    },
    {
      "cell_type": "code",
      "execution_count": null,
      "metadata": {
        "id": "QILfkLLPdtG8",
        "outputId": "51599963-69bf-41af-e274-c4195de0a8cb"
      },
      "outputs": [
        {
          "name": "stdout",
          "output_type": "stream",
          "text": [
            "<class 'int'>\n",
            "<class 'float'>\n",
            "<class 'str'>\n",
            "<class 'bool'>\n"
          ]
        }
      ],
      "source": [
        "print(type(a))\n",
        "print(type(b))\n",
        "print(type(s))\n",
        "print(type(bool_val))"
      ]
    },
    {
      "cell_type": "markdown",
      "metadata": {
        "id": "kTDsGQUc4-gm"
      },
      "source": [
        "Insert a code cell following this cell to verify the type of ANint"
      ]
    },
    {
      "cell_type": "code",
      "execution_count": null,
      "metadata": {
        "id": "B9F5H3sxu-Dc",
        "outputId": "b0129b4d-d524-48c4-dd7a-aa5728be9700"
      },
      "outputs": [
        {
          "name": "stdout",
          "output_type": "stream",
          "text": [
            "<class 'int'>\n"
          ]
        }
      ],
      "source": [
        "print(type(ANint))"
      ]
    },
    {
      "cell_type": "markdown",
      "metadata": {
        "id": "OFGvsSkRd9tA"
      },
      "source": [
        "Now, a quick overview of built in functions"
      ]
    },
    {
      "cell_type": "code",
      "execution_count": null,
      "metadata": {
        "id": "WMx7eWaeeEAa",
        "outputId": "6f8fc7b7-1f77-4e9f-cdac-a1b6baa4f4de"
      },
      "outputs": [
        {
          "name": "stdout",
          "output_type": "stream",
          "text": [
            "a = 2 and b = 3.142\n",
            "5.1419999999999995\n",
            "6.284\n",
            "-1.142\n",
            "0.6365372374283896\n",
            "9.872164\n",
            "2.0\n"
          ]
        }
      ],
      "source": [
        "print(\"a =\", a, \"and b =\" , b)\n",
        "print(a + b)      # addition\n",
        "print(a * b)      # multiplication\n",
        "print(a - b)      # subtraction\n",
        "print(a / b)      # division\n",
        "print(b ** a)     # exponentiation\n",
        "print(a % b)      # modulus - returns the remainder\n"
      ]
    },
    {
      "cell_type": "markdown",
      "metadata": {
        "id": "IyM5K2Q65R-a"
      },
      "source": [
        "Insert a code cell to assign a new variable aquad with a value from the product of (b-a) and (b+a). Print the result"
      ]
    },
    {
      "cell_type": "code",
      "execution_count": null,
      "metadata": {
        "id": "fnEWrJBXu-Dc",
        "outputId": "5e09004a-288f-48e0-b1bb-b54be167e194"
      },
      "outputs": [
        {
          "name": "stdout",
          "output_type": "stream",
          "text": [
            "5.872163999999999\n"
          ]
        }
      ],
      "source": [
        "aquad = (b-a) * (b+a)\n",
        "print(aquad)"
      ]
    },
    {
      "cell_type": "markdown",
      "metadata": {
        "id": "KpXrni27epnX"
      },
      "source": [
        "Some Boolean built in functions"
      ]
    },
    {
      "cell_type": "code",
      "execution_count": null,
      "metadata": {
        "id": "ccdwOQRmed3-",
        "outputId": "39603add-e016-4477-8262-7a865f8a8c2c"
      },
      "outputs": [
        {
          "name": "stdout",
          "output_type": "stream",
          "text": [
            "False\n",
            "True\n",
            "True\n",
            "True\n",
            "False\n"
          ]
        },
        {
          "name": "stderr",
          "output_type": "stream",
          "text": [
            "<>:2: SyntaxWarning: \"is\" with 'str' literal. Did you mean \"==\"?\n",
            "C:\\Users\\there\\AppData\\Local\\Temp\\ipykernel_4168\\3606750855.py:2: SyntaxWarning: \"is\" with 'str' literal. Did you mean \"==\"?\n",
            "  print('hello' is 'hello')\n"
          ]
        }
      ],
      "source": [
        "print('hello' == 'HELLO')\n",
        "print('hello' is 'hello')\n",
        "print(3 != 77)\n",
        "print(1 < 2)\n",
        "print('four' > 'three')"
      ]
    },
    {
      "cell_type": "markdown",
      "metadata": {
        "id": "pzSXWh2hD8XR"
      },
      "source": [
        "We can change types implicitly by value assignment or explicitly with casting"
      ]
    },
    {
      "cell_type": "code",
      "execution_count": null,
      "metadata": {
        "id": "Dd7bB3JqEGXE",
        "outputId": "e03d9e9f-3551-4d21-bae9-ffd4c6f36828"
      },
      "outputs": [
        {
          "name": "stdout",
          "output_type": "stream",
          "text": [
            "<class 'float'>\n",
            "<class 'int'>\n",
            "<class 'float'>\n",
            "<class 'int'>\n",
            "<class 'int'>\n",
            "3\n",
            "<class 'str'>\n",
            "<class 'float'>\n"
          ]
        }
      ],
      "source": [
        "a = 3.142\n",
        "print(type(a))\n",
        "a = 3\n",
        "print(type(a))\n",
        "a = a*1.0\n",
        "print(type(a))\n",
        "a = int(a)\n",
        "print(type(a))\n",
        "a = 3.142\n",
        "a = int(a)\n",
        "print(type(a))\n",
        "print(a)\n",
        "a = \"3.142\"\n",
        "print(type(a))\n",
        "a = float(a)\n",
        "print(type(a))"
      ]
    },
    {
      "cell_type": "markdown",
      "metadata": {
        "id": "3KXzMEDqfDl4"
      },
      "source": [
        "# LISTS"
      ]
    },
    {
      "cell_type": "markdown",
      "metadata": {
        "id": "ahXNAT2zfSJS"
      },
      "source": [
        "A list is a set of values, of any type separated by commas and delimited by '[' and ']'"
      ]
    },
    {
      "cell_type": "code",
      "execution_count": null,
      "metadata": {
        "id": "XrwFXh7PfYZn",
        "outputId": "5b05f2b9-9332-4c0d-fba4-b4081ad3577f"
      },
      "outputs": [
        {
          "name": "stdout",
          "output_type": "stream",
          "text": [
            "[6, 54, 89]\n",
            "<class 'list'>\n",
            "[3.142, 2.71828, 9.8]\n",
            "<class 'list'>\n",
            "['Hello', 'to', 'Peter']\n",
            "['Hello', 'to', 'Peter']\n",
            "['Hello', 'to', 'Fred']\n",
            "<class 'list'>\n",
            "[6, 5.4, 'numbers', True]\n",
            "<class 'list'>\n"
          ]
        }
      ],
      "source": [
        "list1 = [6, 54, 89 ]\n",
        "print(list1)\n",
        "print(type(list1))\n",
        "\n",
        "list2 = [3.142, 2.71828, 9.8 ]\n",
        "print(list2)\n",
        "print(type(list2))\n",
        "\n",
        "myname = \"Peter\"\n",
        "list3 = [\"Hello\", 'to', myname ]\n",
        "print(list3)\n",
        "myname = \"Fred\"\n",
        "print(list3)\n",
        "list3 = [\"Hello\", 'to', myname ]\n",
        "print(list3)\n",
        "print(type(list3))\n",
        "\n",
        "list4 = [6, 5.4, \"numbers\", True ]\n",
        "print(list4)\n",
        "print(type(list4))"
      ]
    },
    {
      "cell_type": "markdown",
      "metadata": {
        "id": "22oZZjPKmtQI"
      },
      "source": [
        "Insert a cell after this one to create a list with 5 elements.  Use python range to initialize the values of the list. You may look up from the python site how to use range(). range takes a starting value, stop value, and an optional step value. Find a way to make a list, list1, with elements [7, 8, 9, 10, 11] then create a second list, list2, with 5 elements where this list is [2, 5, 8, 11, 14]. Look up range values on python.org site if necessary."
      ]
    },
    {
      "cell_type": "code",
      "execution_count": null,
      "metadata": {
        "id": "Pg8y0PnQu-Dd",
        "outputId": "ea96954b-7277-4ed4-b2b0-74ad01c1788f"
      },
      "outputs": [
        {
          "name": "stdout",
          "output_type": "stream",
          "text": [
            "list1: [7, 8, 9, 10, 11]\n",
            "list2: [2, 5, 8, 11, 14]\n"
          ]
        }
      ],
      "source": [
        "list1 = []\n",
        "for i in range(7,12):\n",
        "    list1.append(i)\n",
        "\n",
        "list2 = []\n",
        "for i in range(2,17,3):\n",
        "    list2.append(i)\n",
        "\n",
        "#VERIFICATION\n",
        "if True:\n",
        "    print(f\"list1: {list1}\")\n",
        "    print(f\"list2: {list2}\")"
      ]
    },
    {
      "cell_type": "markdown",
      "metadata": {
        "id": "9PEPK8l5g0Dv"
      },
      "source": [
        "We select an entry from a list or \"Index\" by indicating the entries or range that we want selected within square brackets:"
      ]
    },
    {
      "cell_type": "code",
      "execution_count": null,
      "metadata": {
        "id": "EpZl7kcwg-ff",
        "outputId": "688bad45-e7a7-47d1-b563-47ebfaffd3d1"
      },
      "outputs": [
        {
          "name": "stdout",
          "output_type": "stream",
          "text": [
            "11\n",
            "[5, 11]\n",
            "4\n",
            "6\n",
            "[5]\n",
            "[4, 5, 6, 11]\n",
            "[4, 5]\n"
          ]
        }
      ],
      "source": [
        "num_list = [4,5,6,11]\n",
        "\n",
        "last_num_in_list = num_list[-1]\n",
        "print(last_num_in_list)\n",
        "\n",
        "odd_from_list = [num_list[1], num_list[3]]\n",
        "print(odd_from_list)\n",
        "print(num_list[0])\n",
        "print(num_list[2])\n",
        "print(num_list[1:2])\n",
        "print(num_list[0:])         #from index 0 to the end\n",
        "print(num_list[:2])         #from the start to the one BEFORE index 2\n"
      ]
    },
    {
      "cell_type": "markdown",
      "metadata": {
        "id": "hQg0EGjppBPS"
      },
      "source": [
        "Insert a cell after this cell that prints out the last entry in the list list2"
      ]
    },
    {
      "cell_type": "code",
      "execution_count": null,
      "metadata": {
        "id": "hNgEo3s6u-De",
        "outputId": "759ecdb9-bb31-4b77-dc54-a1da5a4f7285"
      },
      "outputs": [
        {
          "name": "stdout",
          "output_type": "stream",
          "text": [
            "14\n"
          ]
        }
      ],
      "source": [
        "print(list2[-1])"
      ]
    },
    {
      "cell_type": "markdown",
      "metadata": {
        "id": "vV9FznKriYhI"
      },
      "source": [
        "Indexing characters in strings is handled the same way for string type variables."
      ]
    },
    {
      "cell_type": "markdown",
      "metadata": {
        "id": "eJ_SX95njyyI"
      },
      "source": [
        "## Branching"
      ]
    },
    {
      "cell_type": "code",
      "execution_count": null,
      "metadata": {
        "id": "lUrR8K3wGJDZ",
        "outputId": "8f21f51b-02a4-41fa-ac01-211d9d059890"
      },
      "outputs": [
        {
          "name": "stdout",
          "output_type": "stream",
          "text": [
            "value =  4 and threshold =  5\n",
            "below threshold\n"
          ]
        }
      ],
      "source": [
        "# if ... else ...\n",
        "\n",
        "value = 4\n",
        "threshold = 5\n",
        "print(\"value = \", value, \"and threshold = \", threshold)\n",
        "\n",
        "if value > threshold :\n",
        "    print(\"above threshold\")\n",
        "else :\n",
        "    print(\"below threshold\")"
      ]
    },
    {
      "cell_type": "code",
      "execution_count": null,
      "metadata": {
        "id": "Ks5y3CQsGPlT",
        "outputId": "23c3456b-6b46-4a2c-ca28-56e164bdd824"
      },
      "outputs": [
        {
          "name": "stdout",
          "output_type": "stream",
          "text": [
            "The sum of the numbers from 1 to 10 is  55\n"
          ]
        }
      ],
      "source": [
        "# while loop\n",
        "n = 10\n",
        "cur_sum = 0\n",
        "# sum of n  numbers\n",
        "i = 1\n",
        "while  i <= n :\n",
        "    cur_sum = cur_sum + i\n",
        "    i = i + 1\n",
        "print(\"The sum of the numbers from 1 to\", n, \"is \", cur_sum)"
      ]
    },
    {
      "cell_type": "code",
      "execution_count": null,
      "metadata": {
        "id": "U1cxXoaPGQ7S",
        "outputId": "3c6cd712-760f-42b8-cfca-223e6a18dea5"
      },
      "outputs": [
        {
          "name": "stdout",
          "output_type": "stream",
          "text": [
            "\n",
            "Example 1\n",
            "\n",
            "1\n",
            "2\n",
            "3\n",
            "\n",
            "Example 2\n",
            "\n",
            "Tom\n",
            "Dick\n",
            "Harry\n",
            "\n",
            "Example 3\n",
            "\n",
            "Tom\n",
            "42\n",
            "3.142\n",
            "\n",
            "Example 4\n",
            "\n",
            "0\n",
            "1\n",
            "2\n",
            "\n",
            "Example 5\n",
            "\n",
            "1\n",
            "2\n",
            "3\n",
            "\n",
            "Example 6\n",
            "\n",
            "2\n",
            "4\n",
            "6\n",
            "8\n",
            "10\n",
            "\n",
            "Example 7\n",
            "\n",
            "A\n",
            "B\n",
            "C\n",
            "D\n",
            "E\n",
            "\n",
            "Example 8\n",
            "\n",
            "The\n",
            "quick\n",
            "brown\n",
            "fox\n",
            "jumped\n",
            "over\n",
            "the\n",
            "lazy\n",
            "sleeping\n",
            "dog\n"
          ]
        }
      ],
      "source": [
        "# for loops\n",
        "\n",
        "print(\"\\nExample 1\\n\")\n",
        "for i in [1,2,3] :\n",
        "    print(i)\n",
        "\n",
        "print(\"\\nExample 2\\n\")\n",
        "for name in [\"Tom\", \"Dick\", \"Harry\"] :\n",
        "    print(name)\n",
        "\n",
        "print(\"\\nExample 3\\n\")\n",
        "for name in [\"Tom\", 42, 3.142] :\n",
        "    print(name)\n",
        "\n",
        "print(\"\\nExample 4\\n\")\n",
        "for i in range(3) :\n",
        "    print(i)\n",
        "\n",
        "print(\"\\nExample 5\\n\")\n",
        "for i in range(1,4) :\n",
        "    print(i)\n",
        "\n",
        "print(\"\\nExample 6\\n\")\n",
        "for i in range(2, 11, 2) :\n",
        "    print(i)\n",
        "\n",
        "print(\"\\nExample 7\\n\")\n",
        "for i in \"ABCDE\" :\n",
        "    print(i)\n",
        "\n",
        "print(\"\\nExample 8\\n\")\n",
        "longString = \"The quick brown fox jumped over the lazy sleeping dog\"\n",
        "for word in longString.split() :\n",
        "    print(word)"
      ]
    },
    {
      "cell_type": "markdown",
      "metadata": {
        "id": "l12ttgjbGo6g"
      },
      "source": [
        "## Functions"
      ]
    },
    {
      "cell_type": "code",
      "execution_count": null,
      "metadata": {
        "id": "RhNqGfVdG3cl",
        "outputId": "f90714cc-e0a7-4b29-ab7d-30462c519bb4"
      },
      "outputs": [
        {
          "name": "stdout",
          "output_type": "stream",
          "text": [
            "4\n"
          ]
        }
      ],
      "source": [
        "def get_item_count(items_str,sep):\n",
        "    '''\n",
        "    This function, named get_item_count, takes a string with a list of items and the character that they're separated by and returns the number of items\n",
        "    '''\n",
        "    items_list = items_str.split(sep)\n",
        "    num_items = len(items_list)\n",
        "    return num_items\n",
        "\n",
        "items_owned = \"bicycle;television;solar_panel;table\"\n",
        "print(get_item_count(items_owned,';'))"
      ]
    },
    {
      "cell_type": "markdown",
      "metadata": {
        "id": "o_iXKqURHJqB"
      },
      "source": [
        "## **Libraries**"
      ]
    },
    {
      "cell_type": "markdown",
      "metadata": {
        "id": "Vsl5LHH7H-By"
      },
      "source": [
        "Libraries or packages in python are collections of functions that can be installed using a python package manager (eg. pip) and subsequently repeatedly called"
      ]
    },
    {
      "cell_type": "markdown",
      "metadata": {
        "id": "b9_K4HCHJU8f"
      },
      "source": [
        "The following cell uses the $ notation to run a program.  In this case the program is the package manager pip.  In this example pip is told to install the desired package.  You need to specify the package name.  Some packages that we will use regularly in this course are: numpy, matplotlib, tensorflow, keras, pandas, scipy. The name of the package would replace <package name> below"
      ]
    },
    {
      "cell_type": "code",
      "execution_count": null,
      "metadata": {
        "id": "QkMMMQS-HIbL"
      },
      "outputs": [],
      "source": [
        "$ pip install <package name>"
      ]
    },
    {
      "cell_type": "markdown",
      "metadata": {
        "id": "vl9lW7rYWIB5"
      },
      "source": [
        "Often we use shorthand names for packages to keep python lines short.  See pd, np, and plt below."
      ]
    },
    {
      "cell_type": "markdown",
      "metadata": {
        "id": "6nbOUfBxKYqJ"
      },
      "source": [
        "\n",
        "```\n",
        "# some example commom library imports\n",
        "import csv\n",
        "import json\n",
        "import pandas as pd\n",
        "import numpy as np\n",
        "import matplotlib.pyplot as plt\n",
        "```\n",
        "\n"
      ]
    },
    {
      "cell_type": "markdown",
      "metadata": {
        "id": "99izuUOYauC1"
      },
      "source": [
        "## FILE I/O"
      ]
    },
    {
      "cell_type": "markdown",
      "metadata": {
        "id": "R8FJy2haay-F"
      },
      "source": [
        "We will cover basic file I/O in Python next.  Python file I/O is simple but unique.  Most often in this class we will use more powerful file I/O capabilities of numpy and pandas. For completeness, here are Python File I/O basic instructions:"
      ]
    },
    {
      "cell_type": "markdown",
      "metadata": {
        "id": "7WbeG-qGcbV9"
      },
      "source": [
        "Python has two types of files: text files and binary files."
      ]
    },
    {
      "cell_type": "markdown",
      "metadata": {
        "id": "IZv6gxNacsct"
      },
      "source": [
        "Text files are structured as a sequence of lines, where each line includes a sequence of characters.\n",
        "\n",
        "Each line is terminated with a special character, called the EOL or End of Line character. There are several types, but the most common is the comma {,} or newline character. It ends the current line and tells the interpreter a new one has begun.\n",
        "\n",
        "A backslash character can also be used, and it tells the interpreter that the next character – following the slash – should be treated as a new line. This character is useful when you don’t want to start a new line in the text itself but in the code.\n",
        "\n"
      ]
    },
    {
      "cell_type": "markdown",
      "metadata": {
        "id": "L5i96tzgc76r"
      },
      "source": [
        "A binary file is any type of file that is not a text file. Because of their nature, binary files can only be processed by an application that understands the file’s structure. In other words, they must be applications that can read and interpret binary."
      ]
    },
    {
      "cell_type": "markdown",
      "metadata": {
        "id": "1MZM-xyRmQBS"
      },
      "source": [
        "## Reading from File"
      ]
    },
    {
      "cell_type": "markdown",
      "metadata": {
        "id": "6n-uLbLLmTnZ"
      },
      "source": [
        "In Python, files are read using the open() method. This is one of Python’s built-in methods, made for opening files.\n",
        "\n",
        "The open() function takes two arguments: a filename and a file opening mode. The filename points to the path of the file on your computer, while the file opening mode is used to tell the open() function how we plan to interact with the file.\n",
        "\n",
        "By default, the file opening mode is set to read-only, meaning we’ll only have permission to open and examine the contents of the file.\n",
        "If we want to do anything other than just read a file, we’ll need to manually tell Python what we intend to do with it:\n",
        "\n",
        "*   ‘r’ – Read Mode: This is the default mode for open(). The file is opened and a pointer is positioned at the beginning of the file’s content.\n",
        "*   ‘w’ – Write Mode: Using this mode will overwrite any existing content in a file. If the given file does not exist, a new one will be created.\n",
        "\n",
        "*   ‘r+’ – Read/Write Mode: Use this mode if you need to simultaneously read and write to a file.\n",
        "\n",
        "*   ‘a’ – Append Mode: With this mode the user can append the data without overwriting any already existing data in the file.\n",
        "\n",
        "*   ‘a+’ – Append and Read Mode: In this mode you can read and append the data without overwriting the original file.\n",
        "*   ‘x’ – Exclusive Creating Mode: This mode is for the sole purpose of creating new files. Use this mode if you know the file to be written doesn’t exist beforehand.\n",
        "\n",
        "Once file is opened we can read from it (or write to it, etc)\n",
        "\n",
        "\n",
        "\n",
        "\n",
        "\n",
        "\n"
      ]
    },
    {
      "cell_type": "markdown",
      "metadata": {
        "id": "YvyOcd4upulw"
      },
      "source": [
        "Filenames can refer to files in the current working directory (CWD) or can have file path information.  In python such as infile.txt, logfile.txt, foo.csv, bar.jpg do not have file path and thus are assumed to exist or are created in the current working directory.  File names such as C:/Users/bob/Desktop/itsafile.tx (windows) or /Users/bob/Desktop/itsafile.txt (linux/mac) contain full path information for python to locate the file.  Note python prefers the forward slash path nomenclature rather than the windows back slash nomenclature.\n"
      ]
    },
    {
      "cell_type": "markdown",
      "metadata": {
        "id": "D11eS3QConcV"
      },
      "source": [
        "## Writing to a File"
      ]
    },
    {
      "cell_type": "markdown",
      "metadata": {
        "id": "IvdLddoGoqkg"
      },
      "source": [
        "Before we can write to a file in Python, it must first be opened in write mode.\n",
        "\n",
        "In Python, write to file using the open() method. You’ll need to pass both a filename and a special character that tells Python we intend to write to the file.\n",
        "\n"
      ]
    },
    {
      "cell_type": "markdown",
      "metadata": {
        "id": "-62UDXYLpERv"
      },
      "source": [
        "## Closing a File"
      ]
    },
    {
      "cell_type": "markdown",
      "metadata": {
        "id": "WbNN4ZwkpGwj"
      },
      "source": [
        "After opening a file in Python, once you are done reading from it or writing to it, it’s important to close the file. Closing a file ensures that the program can no longer access its contents.\n"
      ]
    },
    {
      "cell_type": "markdown",
      "metadata": {
        "id": "WKs9MeMtv2P0"
      },
      "source": [
        "Since we will be using Colab operating on Google Drive files, we will practice out File IO in Colab.  We first need to learn the essentials of Colab storage"
      ]
    },
    {
      "cell_type": "markdown",
      "metadata": {
        "id": "07DPLk8IKp6I"
      },
      "source": [
        "## Jupyter in Colab"
      ]
    },
    {
      "cell_type": "markdown",
      "metadata": {
        "id": "471OJV0sshR_"
      },
      "source": [
        "Now, let's do a simple tour of Jupyter in Colab. We will start with addressing files in Colab.  By default, files in Colab are located in /content. First let's use the Python call to linux command ls to show the directory contents for /content"
      ]
    },
    {
      "cell_type": "code",
      "execution_count": 1,
      "metadata": {
        "id": "lbbmp-CYtAmU",
        "colab": {
          "base_uri": "https://localhost:8080/"
        },
        "outputId": "812ac83a-4b9d-40e3-9eaf-c4007575125f"
      },
      "outputs": [
        {
          "output_type": "stream",
          "name": "stdout",
          "text": [
            "\u001b[0m\u001b[01;34msample_data\u001b[0m/\n"
          ]
        }
      ],
      "source": [
        "%ls /content"
      ]
    },
    {
      "cell_type": "markdown",
      "metadata": {
        "id": "Rg2tdtMWu7T5"
      },
      "source": []
    },
    {
      "cell_type": "code",
      "execution_count": 2,
      "metadata": {
        "id": "Wq_XjWeouIla"
      },
      "outputs": [],
      "source": [
        "# open the file in write mode\n",
        "myfile = open(\"sample.txt\",'w')\n",
        "\n",
        "myfile.write(\"Hello! Hello!\")\n",
        "myfile.write(\"Notice that you need to have a newline character to get the next item on a new line \\n\")\n",
        "myfile.writelines(\"writelines writes whole strings of lines\\nHello\\nHello\\nHello\\n\")\n",
        "myfile.write(\"Howdy!\")\n",
        "\n",
        "# close the file\n",
        "myfile.close()"
      ]
    },
    {
      "cell_type": "code",
      "execution_count": 3,
      "metadata": {
        "id": "mGZo_RocuZIm",
        "colab": {
          "base_uri": "https://localhost:8080/"
        },
        "outputId": "0c78eb46-ec27-44b8-e212-377a51042b56"
      },
      "outputs": [
        {
          "output_type": "stream",
          "name": "stdout",
          "text": [
            "\u001b[0m\u001b[01;34msample_data\u001b[0m/  sample.txt\n"
          ]
        }
      ],
      "source": [
        "%ls /content"
      ]
    },
    {
      "cell_type": "code",
      "execution_count": 4,
      "metadata": {
        "id": "BHOmXwM_usRm",
        "colab": {
          "base_uri": "https://localhost:8080/"
        },
        "outputId": "1894e2e6-c99a-4b57-9944-d9e7ee5d68da"
      },
      "outputs": [
        {
          "output_type": "stream",
          "name": "stdout",
          "text": [
            "Hello! Hello!Notice that you need to have a newline character to get the next item on a new line \n",
            "\n",
            "writelines writes whole strings of lines\n",
            "\n",
            "Hello\n",
            "\n",
            "Hello\n",
            "\n",
            "Hello\n",
            "\n",
            "Howdy!\n"
          ]
        }
      ],
      "source": [
        "# read.py\n",
        "# loading a file with open()\n",
        "myfile = open(\"sample.txt\")\n",
        "\n",
        "# reading each line of the file and printing to the console\n",
        "for line in myfile:\n",
        "\tprint(line)"
      ]
    },
    {
      "cell_type": "markdown",
      "metadata": {
        "id": "u1A8gR-2lCOC"
      },
      "source": [
        "Now, that you now know how to load a Jupyter notebook in Colab and you know how to do file I/O in python in Jupiter, let'd do some datafile movement and manipulation in Jupyter.\n",
        "\n",
        "Let's start with how you will load data into your Jupyter Notebook in Colab. You will copy datafiles from Canvas to your Google Drive in MyDrive.  Since you have already done that for today's datafile, let's go get the data.\n",
        "\n",
        "The easiest way to get data from your Google Drive into Colab is to mount your Google Drive for use in the Jupyter notebook:\n",
        "Run the following cell.  If prompted for an authorization code, follow the URL link, log into your Google account, copy the authorization code, and paste that code into the box below and press return. You should get a response \"Mounted at /content/drive\""
      ]
    },
    {
      "cell_type": "code",
      "execution_count": 5,
      "metadata": {
        "id": "Jo6Ierd1nZmA",
        "colab": {
          "base_uri": "https://localhost:8080/"
        },
        "outputId": "fedbbb70-a925-4bb2-8fb8-8e47ee2d61f2"
      },
      "outputs": [
        {
          "output_type": "stream",
          "name": "stdout",
          "text": [
            "Mounted at /content/drive\n"
          ]
        }
      ],
      "source": [
        "from google.colab import drive\n",
        "\n",
        "# This may prompt for authorization.\n",
        "drive.mount('/content/drive')"
      ]
    },
    {
      "cell_type": "markdown",
      "metadata": {
        "id": "GpqK32ehnymV"
      },
      "source": [
        "Now use unix ls command to make sure that the file we will load is on MyDrive. Run the following cell to verify. If the file is not listed, go back and verify the upload of the file to your google drive and rerun the cells up to this point ..."
      ]
    },
    {
      "cell_type": "code",
      "execution_count": 7,
      "metadata": {
        "id": "snvgoDK1n5Cl",
        "colab": {
          "base_uri": "https://localhost:8080/"
        },
        "outputId": "1eede6b4-8cc9-4aa9-b619-709a0601f7ec"
      },
      "outputs": [
        {
          "output_type": "stream",
          "name": "stdout",
          "text": [
            "/content/drive/MyDrive/ECEN250-F25-Lab1-Data.csv\n"
          ]
        }
      ],
      "source": [
        "!ls /content/drive/MyDrive/ECEN250-F25-Lab1-Data.csv"
      ]
    },
    {
      "cell_type": "markdown",
      "metadata": {
        "id": "DF2jFXFd4WmO"
      },
      "source": [
        "We could use Python reader to read the csv data and writer to output or we could read with Python dictionary, but instead we will use the Python utility NumPy. NumPy is a library for mathmatical manipulations of arrays and matrices.\n",
        "First we import numpy into our notebook, then we use genfromtext() to read the CSV file.  We can then use the implied print command to look at the result."
      ]
    },
    {
      "cell_type": "code",
      "execution_count": 8,
      "metadata": {
        "id": "Lzc_-MJAC7D_",
        "colab": {
          "base_uri": "https://localhost:8080/"
        },
        "outputId": "290e0d6d-ff47-4fbd-aa87-afb987bfdf70"
      },
      "outputs": [
        {
          "output_type": "execute_result",
          "data": {
            "text/plain": [
              "array([[ 30.6098961 , -96.34038089],\n",
              "       [ 29.7392039 , -95.4644667 ],\n",
              "       [ 30.27470226, -97.7403505 ],\n",
              "       [ 32.77537027, -96.80895863],\n",
              "       [ 29.42573914, -98.48632939]])"
            ]
          },
          "metadata": {},
          "execution_count": 8
        }
      ],
      "source": [
        "import numpy as np\n",
        "gps=np.genfromtxt('/content/drive/MyDrive/ECEN250-F25-Lab1-Data.csv',delimiter=',')\n",
        "gps"
      ]
    },
    {
      "cell_type": "markdown",
      "metadata": {
        "id": "wc7viJEA7OA0"
      },
      "source": [
        "This data should be reconizable as GPS coordinates.  Let's compute distances between these locations.  Lets extract the first element of the array:"
      ]
    },
    {
      "cell_type": "code",
      "execution_count": 9,
      "metadata": {
        "id": "7prAD2ciFABy"
      },
      "outputs": [],
      "source": [
        "kylefield=gps[0]"
      ]
    },
    {
      "cell_type": "markdown",
      "metadata": {
        "id": "j0uvlttM6-yy"
      },
      "source": [
        "Now we are going to install a new package to help us compute distances between GPS locations.  Haversine computes distances between two points on a sphere.  This utility is not pre-installed in the python packaged used on Google Colab so we will need to use the Python installer pip to install this utility into the current Colab python for this notebook. Once installed we import it into the notebook with hs as shorthand name:"
      ]
    },
    {
      "cell_type": "code",
      "execution_count": 10,
      "metadata": {
        "id": "MwmcSN018zyk",
        "colab": {
          "base_uri": "https://localhost:8080/"
        },
        "outputId": "ccbd9ec6-05eb-42fc-ee73-08c3423a10ff"
      },
      "outputs": [
        {
          "output_type": "stream",
          "name": "stdout",
          "text": [
            "Collecting haversine\n",
            "  Downloading haversine-2.9.0-py2.py3-none-any.whl.metadata (5.8 kB)\n",
            "Downloading haversine-2.9.0-py2.py3-none-any.whl (7.7 kB)\n",
            "Installing collected packages: haversine\n",
            "Successfully installed haversine-2.9.0\n"
          ]
        }
      ],
      "source": [
        "!pip install haversine\n",
        "import haversine as hs"
      ]
    },
    {
      "cell_type": "markdown",
      "metadata": {
        "id": "gXGrsHl58DNa"
      },
      "source": [
        "Now we can use haversine to compute the distance between two locations.  First, compute the distance between Kyle Field and Kyle Field. The second line is a python implied print."
      ]
    },
    {
      "cell_type": "code",
      "execution_count": 11,
      "metadata": {
        "id": "iZLQIHgEFRVw",
        "colab": {
          "base_uri": "https://localhost:8080/"
        },
        "outputId": "c7483a34-40c7-4b92-8702-68033ac037aa"
      },
      "outputs": [
        {
          "output_type": "execute_result",
          "data": {
            "text/plain": [
              "0.0"
            ]
          },
          "metadata": {},
          "execution_count": 11
        }
      ],
      "source": [
        "kyle2kyle = hs.haversine(kylefield, kylefield)\n",
        "kyle2kyle"
      ]
    },
    {
      "cell_type": "markdown",
      "metadata": {
        "id": "ss6tAlxV8U0t"
      },
      "source": [
        "The second gps coordinate is for the Houson Galleria.  Complete the following cell to extract the second element of the gps array using the first line of the cell and then use haversine to calculate the distance between the Galleria and Kyle Field. Finally add an implied print for galleria2kyle:"
      ]
    },
    {
      "cell_type": "code",
      "execution_count": 14,
      "metadata": {
        "id": "T9dhz-HtFbtg",
        "colab": {
          "base_uri": "https://localhost:8080/"
        },
        "outputId": "9765b18c-226a-46a4-98f0-5ac01c96f7bc"
      },
      "outputs": [
        {
          "output_type": "execute_result",
          "data": {
            "text/plain": [
              "128.30733648051216"
            ]
          },
          "metadata": {},
          "execution_count": 14
        }
      ],
      "source": [
        "galleria= gps[1]\n",
        "galleria2kyle = hs.haversine(galleria, kylefield)\n",
        "galleria2kyle"
      ]
    },
    {
      "cell_type": "markdown",
      "metadata": {
        "id": "LV1l9buf80ZX"
      },
      "source": [
        "Now, add a code cell after this cell and in that cell insert code to extract the third element of the array and compute the distance from that location to Kyle field. You add a cell by positioning your curser at the bottom of this cell and when the +code and +text buttons appear, press select the code button. Alternatively you can select + Code on the secondary taskbar at the top of the notebook or you can do Insert, Code Cell from the primary taskbar at the top of the notebook."
      ]
    },
    {
      "cell_type": "code",
      "source": [
        "thirdloc= gps[2]\n",
        "thirdloc2kyle = hs.haversine(thirdloc, kylefield)\n",
        "thirdloc2kyle"
      ],
      "metadata": {
        "id": "CDAYm8jzwOe5",
        "outputId": "377d284b-728b-45e9-a523-d27074503c56",
        "colab": {
          "base_uri": "https://localhost:8080/"
        }
      },
      "execution_count": 15,
      "outputs": [
        {
          "output_type": "execute_result",
          "data": {
            "text/plain": [
              "139.28724832593284"
            ]
          },
          "metadata": {},
          "execution_count": 15
        }
      ]
    },
    {
      "cell_type": "markdown",
      "metadata": {
        "id": "fAayTtxB-NaJ"
      },
      "source": [
        "Now, repeat the same process for the two remaining gps coordinates."
      ]
    },
    {
      "cell_type": "code",
      "source": [
        "fourthloc= gps[3]\n",
        "fourthloc2kyle = hs.haversine(fourthloc, kylefield)\n",
        "fourthloc2kyle"
      ],
      "metadata": {
        "id": "67bkrs9Ywdxu",
        "outputId": "42d6eeff-8e91-4cc6-ba1f-7c9d32521f59",
        "colab": {
          "base_uri": "https://localhost:8080/"
        }
      },
      "execution_count": 16,
      "outputs": [
        {
          "output_type": "execute_result",
          "data": {
            "text/plain": [
              "244.8363537308462"
            ]
          },
          "metadata": {},
          "execution_count": 16
        }
      ]
    },
    {
      "cell_type": "code",
      "source": [
        "fifthloc= gps[4]\n",
        "fifthloc2kyle = hs.haversine(fifthloc, kylefield)\n",
        "fifthloc2kyle"
      ],
      "metadata": {
        "id": "uUdbThYFwd20",
        "outputId": "47cc7e7a-bf4e-4f5b-91df-8284a96443c7",
        "colab": {
          "base_uri": "https://localhost:8080/"
        }
      },
      "execution_count": 17,
      "outputs": [
        {
          "output_type": "execute_result",
          "data": {
            "text/plain": [
              "244.994369200396"
            ]
          },
          "metadata": {},
          "execution_count": 17
        }
      ]
    },
    {
      "cell_type": "markdown",
      "metadata": {
        "id": "57VJbqJ3W_Hy"
      },
      "source": [
        "As we have seen, NumPy operates on numerical arrays. We can use the following to create an array 2-dimensional array with two rows (each having 4 elements) We can use shape to give the dimensional characteristics of the numpy array arr. Shape will be very useful to us as we try to convert and combine arrays of different dimensional characteristics.\n",
        "\n",
        "Notice how we used explicit print in python instead of the implicit print we used above."
      ]
    },
    {
      "cell_type": "code",
      "execution_count": 18,
      "metadata": {
        "id": "1l_S2UGBAF8q",
        "colab": {
          "base_uri": "https://localhost:8080/"
        },
        "outputId": "3628aeb2-61ef-4d20-8455-def2962d0a09"
      },
      "outputs": [
        {
          "output_type": "stream",
          "name": "stdout",
          "text": [
            "arr has shape of  (2, 4)\n"
          ]
        }
      ],
      "source": [
        "arr = np.array([[1, 2, 3, 4], [5, 6, 7, 8]])\n",
        "\n",
        "print(\"arr has shape of \",arr.shape)"
      ]
    },
    {
      "cell_type": "markdown",
      "metadata": {
        "id": "jmygNrW4oCoD"
      },
      "source": [
        "Now enter create a code cell below this cell with the python to print the first element of the last row of arr"
      ]
    },
    {
      "cell_type": "code",
      "source": [
        "print(arr[1][0])"
      ],
      "metadata": {
        "id": "P8F0aIhFwq0C"
      },
      "execution_count": null,
      "outputs": []
    },
    {
      "cell_type": "markdown",
      "metadata": {
        "id": "bV_o4XVDqfIP"
      },
      "source": [
        "Next, let's modify the next cell to create a python list with 4 entries for the distances from Kyle Field for the 4 other gps locations that you already computed:"
      ]
    },
    {
      "cell_type": "code",
      "execution_count": null,
      "metadata": {
        "id": "aWOBO6AqrIiT"
      },
      "outputs": [],
      "source": [
        "dist2kyle = [galleria2kyle, ...\n",
        "dist2kyle"
      ]
    },
    {
      "cell_type": "markdown",
      "metadata": {
        "id": "v-0cbTLptnpW"
      },
      "source": [
        "Finally let's compute the sum of these distances. Modify the following code cell to compute and print the sum."
      ]
    },
    {
      "cell_type": "code",
      "execution_count": null,
      "metadata": {
        "id": "We7jItC0yI8H"
      },
      "outputs": [],
      "source": [
        "Sum = ...\n",
        "print(Sum)"
      ]
    },
    {
      "cell_type": "markdown",
      "metadata": {
        "id": "6GBGAIokwOJT"
      },
      "source": [
        "After running your last cell, prepare to submit your notebook to canvas.  Since it is essential that you have all your cells executed and results printed.  If you have some cells run out of order or other issues, you can do Edit > Clear all outputs then return to the top of the notebook and rerun each cell in order.\n",
        "\n",
        "When you are happy with your results, create a PDF of your notebook by doing File > Print and specify print to pdf.  Finally upload that pdf to canvas for your Lab 1 submission"
      ]
    }
  ],
  "metadata": {
    "colab": {
      "provenance": []
    },
    "kernelspec": {
      "display_name": "Python 3",
      "name": "python3"
    },
    "language_info": {
      "codemirror_mode": {
        "name": "ipython",
        "version": 3
      },
      "file_extension": ".py",
      "mimetype": "text/x-python",
      "name": "python",
      "nbconvert_exporter": "python",
      "pygments_lexer": "ipython3",
      "version": "3.13.7"
    }
  },
  "nbformat": 4,
  "nbformat_minor": 0
}
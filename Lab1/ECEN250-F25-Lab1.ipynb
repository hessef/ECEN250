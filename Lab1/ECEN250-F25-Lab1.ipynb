{
  "nbformat": 4,
  "nbformat_minor": 0,
  "metadata": {
    "colab": {
      "provenance": []
    },
    "kernelspec": {
      "name": "python3",
      "display_name": "Python 3"
    },
    "language_info": {
      "name": "python"
    }
  },
  "cells": [
    {
      "cell_type": "code",
      "metadata": {
        "id": "ZTRpdWhTfWOf"
      },
      "source": [
        "print(\"Hello world\")"
      ],
      "execution_count": null,
      "outputs": []
    },
    {
      "cell_type": "markdown",
      "source": [
        "Great!  Now let's do a quick refresher on Phython 3\n",
        "\n"
      ],
      "metadata": {
        "id": "vq2VEMHtbgKw"
      }
    },
    {
      "cell_type": "markdown",
      "source": [
        "## VARIABLES"
      ],
      "metadata": {
        "id": "yT8eQrancD9P"
      }
    },
    {
      "cell_type": "markdown",
      "source": [
        "Variables are created in Python when they are assigned a value.  Basic variable types are int, float, string, and Boolean. Here are some examples. Run the cells to execute the Python to create and assign values to variables."
      ],
      "metadata": {
        "id": "V6PitL_PcLZU"
      }
    },
    {
      "cell_type": "code",
      "source": [
        "a = 2\n",
        "b = 3.142\n",
        "s = \"Say Howdy\"\n",
        "bool_val = True"
      ],
      "metadata": {
        "id": "6Lq9eMsjdiq5"
      },
      "execution_count": null,
      "outputs": []
    },
    {
      "cell_type": "markdown",
      "source": [
        "Now create a new code cell following this cell to create an integer with a name ANint and assign it a value of 1953.  In the same cell use the python print command to print the value of ANint"
      ],
      "metadata": {
        "id": "odKUc6_439wa"
      }
    },
    {
      "cell_type": "markdown",
      "source": [
        "We can always check the type of a created variable with Python print command:"
      ],
      "metadata": {
        "id": "I_IL9kIEThUf"
      }
    },
    {
      "cell_type": "code",
      "source": [
        "print(type(a))\n",
        "print(type(b))\n",
        "print(type(s))\n",
        "print(type(bool_val))"
      ],
      "metadata": {
        "id": "QILfkLLPdtG8"
      },
      "execution_count": null,
      "outputs": []
    },
    {
      "cell_type": "markdown",
      "source": [
        "Insert a code cell following this cell to verify the type of ANint"
      ],
      "metadata": {
        "id": "kTDsGQUc4-gm"
      }
    },
    {
      "cell_type": "markdown",
      "source": [
        "Now, a quick overview of built in functions"
      ],
      "metadata": {
        "id": "OFGvsSkRd9tA"
      }
    },
    {
      "cell_type": "code",
      "source": [
        "print(\"a =\", a, \"and b =\" , b)\n",
        "print(a + b)      # addition\n",
        "print(a * b)      # multiplication\n",
        "print(a - b)      # subtraction\n",
        "print(a / b)      # division\n",
        "print(b ** a)     # exponentiation\n",
        "print(a % b)      # modulus - returns the remainder\n"
      ],
      "metadata": {
        "id": "WMx7eWaeeEAa"
      },
      "execution_count": null,
      "outputs": []
    },
    {
      "cell_type": "markdown",
      "source": [
        "Insert a code cell to assign a new variable aquad with a value from the product of (b-a) and (b+a). Print the result"
      ],
      "metadata": {
        "id": "IyM5K2Q65R-a"
      }
    },
    {
      "cell_type": "markdown",
      "source": [
        "Some Boolean built in functions"
      ],
      "metadata": {
        "id": "KpXrni27epnX"
      }
    },
    {
      "cell_type": "code",
      "source": [
        "print('hello' == 'HELLO')\n",
        "print('hello' is 'hello')\n",
        "print(3 != 77)\n",
        "print(1 < 2)\n",
        "print('four' > 'three')"
      ],
      "metadata": {
        "id": "ccdwOQRmed3-"
      },
      "execution_count": null,
      "outputs": []
    },
    {
      "cell_type": "markdown",
      "source": [
        "We can change types implicitly by value assignment or explicitly with casting"
      ],
      "metadata": {
        "id": "pzSXWh2hD8XR"
      }
    },
    {
      "cell_type": "code",
      "source": [
        "a = 3.142\n",
        "print(type(a))\n",
        "a = 3\n",
        "print(type(a))\n",
        "a = a*1.0\n",
        "print(type(a))\n",
        "a = int(a)\n",
        "print(type(a))\n",
        "a = 3.142\n",
        "a = int(a)\n",
        "print(type(a))\n",
        "print(a)\n",
        "a = \"3.142\"\n",
        "print(type(a))\n",
        "a = float(a)\n",
        "print(type(a))"
      ],
      "metadata": {
        "id": "Dd7bB3JqEGXE"
      },
      "execution_count": null,
      "outputs": []
    },
    {
      "cell_type": "markdown",
      "source": [
        "# LISTS"
      ],
      "metadata": {
        "id": "3KXzMEDqfDl4"
      }
    },
    {
      "cell_type": "markdown",
      "source": [
        "A list is a set of values, of any type separated by commas and delimited by '[' and ']'"
      ],
      "metadata": {
        "id": "ahXNAT2zfSJS"
      }
    },
    {
      "cell_type": "code",
      "source": [
        "list1 = [6, 54, 89 ]\n",
        "print(list1)\n",
        "print(type(list1))\n",
        "\n",
        "list2 = [3.142, 2.71828, 9.8 ]\n",
        "print(list2)\n",
        "print(type(list2))\n",
        "\n",
        "myname = \"Peter\"\n",
        "list3 = [\"Hello\", 'to', myname ]\n",
        "print(list3)\n",
        "myname = \"Fred\"\n",
        "print(list3)\n",
        "list3 = [\"Hello\", 'to', myname ]\n",
        "print(list3)\n",
        "print(type(list3))\n",
        "\n",
        "list4 = [6, 5.4, \"numbers\", True ]\n",
        "print(list4)\n",
        "print(type(list4))"
      ],
      "metadata": {
        "id": "XrwFXh7PfYZn"
      },
      "execution_count": null,
      "outputs": []
    },
    {
      "cell_type": "markdown",
      "source": [
        "Insert a cell after this one to create a list with 5 elements.  Use python range to initialize the values of the list. You may look up from the python site how to use range(). range takes a starting value, stop value, and an optional step value. Find a way to make a list, list1, with elements [7, 8, 9, 10, 11] then create a second list, list2, with 5 elements where this list is [2, 5, 8, 11, 14]. Look up range values on python.org site if necessary."
      ],
      "metadata": {
        "id": "22oZZjPKmtQI"
      }
    },
    {
      "cell_type": "markdown",
      "source": [
        "We select an entry from a list or \"Index\" by indicating the entries or range that we want selected within square brackets:"
      ],
      "metadata": {
        "id": "9PEPK8l5g0Dv"
      }
    },
    {
      "cell_type": "code",
      "source": [
        "num_list = [4,5,6,11]\n",
        "\n",
        "last_num_in_list = num_list[-1]\n",
        "print(last_num_in_list)\n",
        "\n",
        "odd_from_list = [num_list[1], num_list[3]]\n",
        "print(odd_from_list)\n",
        "print(num_list[0])\n",
        "print(num_list[2])\n",
        "print(num_list[1:2])\n",
        "print(num_list[0:])         #from index 0 to the end\n",
        "print(num_list[:2])         #from the start to the one BEFORE index 2\n"
      ],
      "metadata": {
        "id": "EpZl7kcwg-ff"
      },
      "execution_count": null,
      "outputs": []
    },
    {
      "cell_type": "markdown",
      "source": [
        "Insert a cell after this cell that prints out the last entry in the list list2"
      ],
      "metadata": {
        "id": "hQg0EGjppBPS"
      }
    },
    {
      "cell_type": "markdown",
      "source": [
        "Indexing characters in strings is handled the same way for string type variables."
      ],
      "metadata": {
        "id": "vV9FznKriYhI"
      }
    },
    {
      "cell_type": "markdown",
      "source": [
        "## Branching"
      ],
      "metadata": {
        "id": "eJ_SX95njyyI"
      }
    },
    {
      "cell_type": "code",
      "source": [
        "# if ... else ...\n",
        "\n",
        "value = 4\n",
        "threshold = 5\n",
        "print(\"value = \", value, \"and threshold = \", threshold)\n",
        "\n",
        "if value > threshold :\n",
        "    print(\"above threshold\")\n",
        "else :\n",
        "    print(\"below threshold\")"
      ],
      "metadata": {
        "id": "lUrR8K3wGJDZ"
      },
      "execution_count": null,
      "outputs": []
    },
    {
      "cell_type": "code",
      "source": [
        "# while loop\n",
        "n = 10\n",
        "cur_sum = 0\n",
        "# sum of n  numbers\n",
        "i = 1\n",
        "while  i <= n :\n",
        "    cur_sum = cur_sum + i\n",
        "    i = i + 1\n",
        "print(\"The sum of the numbers from 1 to\", n, \"is \", cur_sum)"
      ],
      "metadata": {
        "id": "Ks5y3CQsGPlT"
      },
      "execution_count": null,
      "outputs": []
    },
    {
      "cell_type": "code",
      "source": [
        "# for loops\n",
        "\n",
        "print(\"\\nExample 1\\n\")\n",
        "for i in [1,2,3] :\n",
        "    print(i)\n",
        "\n",
        "print(\"\\nExample 2\\n\")\n",
        "for name in [\"Tom\", \"Dick\", \"Harry\"] :\n",
        "    print(name)\n",
        "\n",
        "print(\"\\nExample 3\\n\")\n",
        "for name in [\"Tom\", 42, 3.142] :\n",
        "    print(name)\n",
        "\n",
        "print(\"\\nExample 4\\n\")\n",
        "for i in range(3) :\n",
        "    print(i)\n",
        "\n",
        "print(\"\\nExample 5\\n\")\n",
        "for i in range(1,4) :\n",
        "    print(i)\n",
        "\n",
        "print(\"\\nExample 6\\n\")\n",
        "for i in range(2, 11, 2) :\n",
        "    print(i)\n",
        "\n",
        "print(\"\\nExample 7\\n\")\n",
        "for i in \"ABCDE\" :\n",
        "    print(i)\n",
        "\n",
        "print(\"\\nExample 8\\n\")\n",
        "longString = \"The quick brown fox jumped over the lazy sleeping dog\"\n",
        "for word in longString.split() :\n",
        "    print(word)"
      ],
      "metadata": {
        "id": "U1cxXoaPGQ7S"
      },
      "execution_count": null,
      "outputs": []
    },
    {
      "cell_type": "markdown",
      "source": [
        "## Functions"
      ],
      "metadata": {
        "id": "l12ttgjbGo6g"
      }
    },
    {
      "cell_type": "code",
      "source": [
        "def get_item_count(items_str,sep):\n",
        "    '''\n",
        "    This function, named get_item_count, takes a string with a list of items and the character that they're separated by and returns the number of items\n",
        "    '''\n",
        "    items_list = items_str.split(sep)\n",
        "    num_items = len(items_list)\n",
        "    return num_items\n",
        "\n",
        "items_owned = \"bicycle;television;solar_panel;table\"\n",
        "print(get_item_count(items_owned,';'))"
      ],
      "metadata": {
        "id": "RhNqGfVdG3cl"
      },
      "execution_count": null,
      "outputs": []
    },
    {
      "cell_type": "markdown",
      "source": [
        "## **Libraries**"
      ],
      "metadata": {
        "id": "o_iXKqURHJqB"
      }
    },
    {
      "cell_type": "markdown",
      "source": [
        "Libraries or packages in python are collections of functions that can be installed using a python package manager (eg. pip) and subsequently repeatedly called"
      ],
      "metadata": {
        "id": "Vsl5LHH7H-By"
      }
    },
    {
      "cell_type": "markdown",
      "source": [
        "The following cell uses the $ notation to run a program.  In this case the program is the package manager pip.  In this example pip is told to install the desired package.  You need to specify the package name.  Some packages that we will use regularly in this course are: numpy, matplotlib, tensorflow, keras, pandas, scipy. The name of the package would replace <package name> below"
      ],
      "metadata": {
        "id": "b9_K4HCHJU8f"
      }
    },
    {
      "cell_type": "code",
      "source": [
        "$ pip install <package name>"
      ],
      "metadata": {
        "id": "QkMMMQS-HIbL"
      },
      "execution_count": null,
      "outputs": []
    },
    {
      "cell_type": "markdown",
      "source": [
        "Often we use shorthand names for packages to keep python lines short.  See pd, np, and plt below."
      ],
      "metadata": {
        "id": "vl9lW7rYWIB5"
      }
    },
    {
      "cell_type": "markdown",
      "source": [
        "\n",
        "```\n",
        "# some example commom library imports\n",
        "import csv\n",
        "import json\n",
        "import pandas as pd\n",
        "import numpy as np\n",
        "import matplotlib.pyplot as plt\n",
        "```\n",
        "\n"
      ],
      "metadata": {
        "id": "6nbOUfBxKYqJ"
      }
    },
    {
      "cell_type": "markdown",
      "source": [
        "## FILE I/O"
      ],
      "metadata": {
        "id": "99izuUOYauC1"
      }
    },
    {
      "cell_type": "markdown",
      "source": [
        "We will cover basic file I/O in Python next.  Python file I/O is simple but unique.  Most often in this class we will use more powerful file I/O capabilities of numpy and pandas. For completeness, here are Python File I/O basic instructions:"
      ],
      "metadata": {
        "id": "R8FJy2haay-F"
      }
    },
    {
      "cell_type": "markdown",
      "source": [
        "Python has two types of files: text files and binary files."
      ],
      "metadata": {
        "id": "7WbeG-qGcbV9"
      }
    },
    {
      "cell_type": "markdown",
      "source": [
        "Text files are structured as a sequence of lines, where each line includes a sequence of characters.\n",
        "\n",
        "Each line is terminated with a special character, called the EOL or End of Line character. There are several types, but the most common is the comma {,} or newline character. It ends the current line and tells the interpreter a new one has begun.\n",
        "\n",
        "A backslash character can also be used, and it tells the interpreter that the next character – following the slash – should be treated as a new line. This character is useful when you don’t want to start a new line in the text itself but in the code.\n",
        "\n"
      ],
      "metadata": {
        "id": "IZv6gxNacsct"
      }
    },
    {
      "cell_type": "markdown",
      "source": [
        "A binary file is any type of file that is not a text file. Because of their nature, binary files can only be processed by an application that understands the file’s structure. In other words, they must be applications that can read and interpret binary."
      ],
      "metadata": {
        "id": "L5i96tzgc76r"
      }
    },
    {
      "cell_type": "markdown",
      "source": [
        "## Reading from File"
      ],
      "metadata": {
        "id": "1MZM-xyRmQBS"
      }
    },
    {
      "cell_type": "markdown",
      "source": [
        "In Python, files are read using the open() method. This is one of Python’s built-in methods, made for opening files.\n",
        "\n",
        "The open() function takes two arguments: a filename and a file opening mode. The filename points to the path of the file on your computer, while the file opening mode is used to tell the open() function how we plan to interact with the file.\n",
        "\n",
        "By default, the file opening mode is set to read-only, meaning we’ll only have permission to open and examine the contents of the file.\n",
        "If we want to do anything other than just read a file, we’ll need to manually tell Python what we intend to do with it:\n",
        "\n",
        "*   ‘r’ – Read Mode: This is the default mode for open(). The file is opened and a pointer is positioned at the beginning of the file’s content.\n",
        "*   ‘w’ – Write Mode: Using this mode will overwrite any existing content in a file. If the given file does not exist, a new one will be created.\n",
        "\n",
        "*   ‘r+’ – Read/Write Mode: Use this mode if you need to simultaneously read and write to a file.\n",
        "\n",
        "*   ‘a’ – Append Mode: With this mode the user can append the data without overwriting any already existing data in the file.\n",
        "\n",
        "*   ‘a+’ – Append and Read Mode: In this mode you can read and append the data without overwriting the original file.\n",
        "*   ‘x’ – Exclusive Creating Mode: This mode is for the sole purpose of creating new files. Use this mode if you know the file to be written doesn’t exist beforehand.\n",
        "\n",
        "Once file is opened we can read from it (or write to it, etc)\n",
        "\n",
        "\n",
        "\n",
        "\n",
        "\n",
        "\n"
      ],
      "metadata": {
        "id": "6n-uLbLLmTnZ"
      }
    },
    {
      "cell_type": "markdown",
      "source": [
        "Filenames can refer to files in the current working directory (CWD) or can have file path information.  In python such as infile.txt, logfile.txt, foo.csv, bar.jpg do not have file path and thus are assumed to exist or are created in the current working directory.  File names such as C:/Users/bob/Desktop/itsafile.tx (windows) or /Users/bob/Desktop/itsafile.txt (linux/mac) contain full path information for python to locate the file.  Note python prefers the forward slash path nomenclature rather than the windows back slash nomenclature.\n"
      ],
      "metadata": {
        "id": "YvyOcd4upulw"
      }
    },
    {
      "cell_type": "markdown",
      "source": [
        "## Writing to a File"
      ],
      "metadata": {
        "id": "D11eS3QConcV"
      }
    },
    {
      "cell_type": "markdown",
      "source": [
        "Before we can write to a file in Python, it must first be opened in write mode.\n",
        "\n",
        "In Python, write to file using the open() method. You’ll need to pass both a filename and a special character that tells Python we intend to write to the file.\n",
        "\n"
      ],
      "metadata": {
        "id": "IvdLddoGoqkg"
      }
    },
    {
      "cell_type": "markdown",
      "source": [
        "## Closing a File"
      ],
      "metadata": {
        "id": "-62UDXYLpERv"
      }
    },
    {
      "cell_type": "markdown",
      "source": [
        "After opening a file in Python, once you are done reading from it or writing to it, it’s important to close the file. Closing a file ensures that the program can no longer access its contents.\n"
      ],
      "metadata": {
        "id": "WbNN4ZwkpGwj"
      }
    },
    {
      "cell_type": "markdown",
      "source": [
        "Since we will be using Colab operating on Google Drive files, we will practice out File IO in Colab.  We first need to learn the essentials of Colab storage"
      ],
      "metadata": {
        "id": "WKs9MeMtv2P0"
      }
    },
    {
      "cell_type": "markdown",
      "source": [
        "## Jupyter in Colab"
      ],
      "metadata": {
        "id": "07DPLk8IKp6I"
      }
    },
    {
      "cell_type": "markdown",
      "source": [
        "Now, let's do a simple tour of Jupyter in Colab. We will start with addressing files in Colab.  By default, files in Colab are located in /content. First let's use the Python call to linux command ls to show the directory contents for /content"
      ],
      "metadata": {
        "id": "471OJV0sshR_"
      }
    },
    {
      "cell_type": "code",
      "source": [
        "%ls /content"
      ],
      "metadata": {
        "id": "lbbmp-CYtAmU"
      },
      "execution_count": null,
      "outputs": []
    },
    {
      "cell_type": "markdown",
      "source": [],
      "metadata": {
        "id": "Rg2tdtMWu7T5"
      }
    },
    {
      "cell_type": "code",
      "source": [
        "# open the file in write mode\n",
        "myfile = open(\"sample.txt\",'w')\n",
        "\n",
        "myfile.write(\"Hello! Hello!\")\n",
        "myfile.write(\"Notice that you need to have a newline character to get the next item on a new line \\n\")\n",
        "myfile.writelines(\"writelines writes whole strings of lines\\nHello\\nHello\\nHello\\n\")\n",
        "myfile.write(\"Howdy!\")\n",
        "\n",
        "# close the file\n",
        "myfile.close()"
      ],
      "metadata": {
        "id": "Wq_XjWeouIla"
      },
      "execution_count": null,
      "outputs": []
    },
    {
      "cell_type": "code",
      "source": [
        "%ls /content"
      ],
      "metadata": {
        "id": "mGZo_RocuZIm"
      },
      "execution_count": null,
      "outputs": []
    },
    {
      "cell_type": "code",
      "source": [
        "# read.py\n",
        "# loading a file with open()\n",
        "myfile = open(\"sample.txt\")\n",
        "\n",
        "# reading each line of the file and printing to the console\n",
        "for line in myfile:\n",
        "\tprint(line)"
      ],
      "metadata": {
        "id": "BHOmXwM_usRm"
      },
      "execution_count": null,
      "outputs": []
    },
    {
      "cell_type": "markdown",
      "metadata": {
        "id": "u1A8gR-2lCOC"
      },
      "source": [
        "Now, that you now know how to load a Jupyter notebook in Colab and you know how to do file I/O in python in Jupiter, let'd do some datafile movement and manipulation in Jupyter.\n",
        "\n",
        "Let's start with how you will load data into your Jupyter Notebook in Colab. You will copy datafiles from Canvas to your Google Drive in MyDrive.  Since you have already done that for today's datafile, let's go get the data.\n",
        "\n",
        "The easiest way to get data from your Google Drive into Colab is to mount your Google Drive for use in the Jupyter notebook:\n",
        "Run the following cell.  If prompted for an authorization code, follow the URL link, log into your Google account, copy the authorization code, and paste that code into the box below and press return. You should get a response \"Mounted at /content/drive\""
      ]
    },
    {
      "cell_type": "code",
      "metadata": {
        "id": "Jo6Ierd1nZmA"
      },
      "source": [
        "from google.colab import drive\n",
        "\n",
        "# This may prompt for authorization.\n",
        "drive.mount('/content/drive')"
      ],
      "execution_count": null,
      "outputs": []
    },
    {
      "cell_type": "markdown",
      "metadata": {
        "id": "GpqK32ehnymV"
      },
      "source": [
        "Now use unix ls command to make sure that the file we will load is on MyDrive. Run the following cell to verify. If the file is not listed, go back and verify the upload of the file to your google drive and rerun the cells up to this point ..."
      ]
    },
    {
      "cell_type": "code",
      "metadata": {
        "id": "snvgoDK1n5Cl"
      },
      "source": [
        "!ls /content/drive/MyDrive/ECEN289Lab1.csv"
      ],
      "execution_count": null,
      "outputs": []
    },
    {
      "cell_type": "markdown",
      "metadata": {
        "id": "DF2jFXFd4WmO"
      },
      "source": [
        "We could use Python reader to read the csv data and writer to output or we could read with Python dictionary, but instead we will use the Python utility NumPy. NumPy is a library for mathmatical manipulations of arrays and matrices.\n",
        "First we import numpy into our notebook, then we use genfromtext() to read the CSV file.  We can then use the implied print command to look at the result."
      ]
    },
    {
      "cell_type": "code",
      "metadata": {
        "id": "Lzc_-MJAC7D_"
      },
      "source": [
        "import numpy as np\n",
        "gps=np.genfromtxt('/content/drive/MyDrive/ECEN289Lab1.csv',delimiter=',')\n",
        "gps"
      ],
      "execution_count": null,
      "outputs": []
    },
    {
      "cell_type": "markdown",
      "metadata": {
        "id": "wc7viJEA7OA0"
      },
      "source": [
        "This data should be reconizable as GPS coordinates.  Let's compute distances between these locations.  Lets extract the first element of the array:"
      ]
    },
    {
      "cell_type": "code",
      "metadata": {
        "id": "7prAD2ciFABy"
      },
      "source": [
        "kylefield=gps[0]"
      ],
      "execution_count": null,
      "outputs": []
    },
    {
      "cell_type": "markdown",
      "metadata": {
        "id": "j0uvlttM6-yy"
      },
      "source": [
        "Now we are going to install a new package to help us compute distances between GPS locations.  Haversine computes distances between two points on a sphere.  This utility is not pre-installed in the python packaged used on Google Colab so we will need to use the Python installer pip to install this utility into the current Colab python for this notebook. Once installed we import it into the notebook with hs as shorthand name:"
      ]
    },
    {
      "cell_type": "code",
      "metadata": {
        "id": "MwmcSN018zyk"
      },
      "source": [
        "!pip install haversine\n",
        "import haversine as hs"
      ],
      "execution_count": null,
      "outputs": []
    },
    {
      "cell_type": "markdown",
      "metadata": {
        "id": "gXGrsHl58DNa"
      },
      "source": [
        "Now we can use haversine to compute the distance between two locations.  First, compute the distance between Kyle Field and Kyle Field. The second line is a python implied print."
      ]
    },
    {
      "cell_type": "code",
      "metadata": {
        "id": "iZLQIHgEFRVw"
      },
      "source": [
        "kyle2kyle = hs.haversine(kylefield, kylefield)\n",
        "kyle2kyle"
      ],
      "execution_count": null,
      "outputs": []
    },
    {
      "cell_type": "markdown",
      "metadata": {
        "id": "ss6tAlxV8U0t"
      },
      "source": [
        "The second gps coordinate is for the Houson Galleria.  Complete the following cell to extract the second element of the gps array using the first line of the cell and then use haversine to calculate the distance between the Galleria and Kyle Field. Finally add an implied print for galleria2kyle:"
      ]
    },
    {
      "cell_type": "code",
      "metadata": {
        "id": "T9dhz-HtFbtg"
      },
      "source": [
        "galleria= ...\n",
        "galleria2kyle = hs..."
      ],
      "execution_count": null,
      "outputs": []
    },
    {
      "cell_type": "markdown",
      "metadata": {
        "id": "LV1l9buf80ZX"
      },
      "source": [
        "Now, add a code cell after this cell and in that cell insert code to extract the third element of the array and compute the distance from that location to Kyle field. You add a cell by positioning your curser at the bottom of this cell and when the +code and +text buttons appear, press select the code button. Alternatively you can select + Code on the secondary taskbar at the top of the notebook or you can do Insert, Code Cell from the primary taskbar at the top of the notebook."
      ]
    },
    {
      "cell_type": "markdown",
      "metadata": {
        "id": "fAayTtxB-NaJ"
      },
      "source": [
        "Now, repeat the same process for the two remaining gps coordinates."
      ]
    },
    {
      "cell_type": "markdown",
      "source": [
        "As we have seen, NumPy operates on numerical arrays. We can use the following to create an array 2-dimensional array with two rows (each having 4 elements) We can use shape to give the dimensional characteristics of the numpy array arr. Shape will be very useful to us as we try to convert and combine arrays of different dimensional characteristics.\n",
        "\n",
        "Notice how we used explicit print in python instead of the implicit print we used above."
      ],
      "metadata": {
        "id": "57VJbqJ3W_Hy"
      }
    },
    {
      "cell_type": "code",
      "metadata": {
        "id": "1l_S2UGBAF8q"
      },
      "source": [
        "arr = np.array([[1, 2, 3, 4], [5, 6, 7, 8]])\n",
        "\n",
        "print(\"arr has shape of \",arr.shape)"
      ],
      "execution_count": null,
      "outputs": []
    },
    {
      "cell_type": "markdown",
      "source": [
        "Now enter create a code cell below this cell with the python to print the first element of the last row of arr"
      ],
      "metadata": {
        "id": "jmygNrW4oCoD"
      }
    },
    {
      "cell_type": "markdown",
      "source": [
        "Next, let's modify the next cell to create a python list with 4 entries for the distances from Kyle Field for the 4 other gps locations that you already computed:"
      ],
      "metadata": {
        "id": "bV_o4XVDqfIP"
      }
    },
    {
      "cell_type": "code",
      "source": [
        "dist2kyle = [galleria2kyle, ...\n",
        "dist2kyle"
      ],
      "metadata": {
        "id": "aWOBO6AqrIiT"
      },
      "execution_count": null,
      "outputs": []
    },
    {
      "cell_type": "markdown",
      "source": [
        "Finally let's compute the sum of these distances. Modify the following code cell to compute and print the sum."
      ],
      "metadata": {
        "id": "v-0cbTLptnpW"
      }
    },
    {
      "cell_type": "code",
      "source": [
        "Sum = ...\n",
        "print(Sum)"
      ],
      "metadata": {
        "id": "We7jItC0yI8H"
      },
      "execution_count": null,
      "outputs": []
    },
    {
      "cell_type": "markdown",
      "source": [
        "After running your last cell, prepare to submit your notebook to canvas.  Since it is essential that you have all your cells executed and results printed.  If you have some cells run out of order or other issues, you can do Edit > Clear all outputs then return to the top of the notebook and rerun each cell in order.\n",
        "\n",
        "When you are happy with your results, create a PDF of your notebook by doing File > Print and specify print to pdf.  Finally upload that pdf to canvas for your Lab 1 submission"
      ],
      "metadata": {
        "id": "6GBGAIokwOJT"
      }
    }
  ]
}